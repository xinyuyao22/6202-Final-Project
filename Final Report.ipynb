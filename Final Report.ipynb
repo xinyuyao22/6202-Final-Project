{
 "cells": [
  {
   "cell_type": "markdown",
   "metadata": {},
   "source": [
    "# <b>\n",
    "\n",
    "<p>\n",
    "<center>\n",
    "<font size=\"5\">\n",
    "Home Credit Default Risk\n",
    "</font>\n",
    "</center>\n",
    "</p>\n",
    "\n",
    "<p>\n",
    "<center>\n",
    "<font size=\"4\">\n",
    "-Can you predict how capable each applicant is of repaying a loan?\n",
    "</font>\n",
    "</center>\n",
    "</p>\n",
    "\n",
    "<p>\n",
    "<center>\n",
    "<font size=\"3\">\n",
    "Author: Kang Huang, Xinyu Yao, Ya liu\n",
    "</font>\n",
    "</center>\n",
    "</p>\n",
    "\n",
    "</b>"
   ]
  },
  {
   "cell_type": "markdown",
   "metadata": {},
   "source": [
    "# Introduction \n",
    "Many people struggle to get loans due to insufficient or non-existent credit histories. And, unfortunately, this population is often taken advantage of by untrustworthy lenders.\n",
    "\n",
    "Home Credit strives to broaden financial inclusion for the unbanked population by providing a positive and safe borrowing experience. In order to make sure this underserved population has a positive loan experience, Home Credit makes use of a variety of alternative data--including telco and transactional information--to predict their clients' repayment abilities.\n",
    "\n",
    "While Home Credit is currently using various statistical and machine learning methods to make these predictions, they're in need of help unlocking the full potential of their data. Doing so will ensure that clients capable of repayment are not rejected and that loans are given with a principal, maturity, and repayment calendar that will empower their clients to be successful."
   ]
  },
  {
   "cell_type": "markdown",
   "metadata": {},
   "source": [
    "# Experiment "
   ]
  },
  {
   "cell_type": "code",
   "execution_count": 17,
   "metadata": {},
   "outputs": [],
   "source": [
    "import numpy as np\n",
    "import matplotlib.pyplot as plt\n",
    "import seaborn as sns\n",
    "color = sns.color_palette()\n",
    "\n",
    "# Suppress warnings\n",
    "import warnings\n",
    "warnings.filterwarnings('ignore')"
   ]
  },
  {
   "cell_type": "markdown",
   "metadata": {},
   "source": [
    "## Load data"
   ]
  },
  {
   "cell_type": "code",
   "execution_count": 18,
   "metadata": {
    "scrolled": true
   },
   "outputs": [
    {
     "name": "stdout",
     "output_type": "stream",
     "text": [
      "Training data shape:  (307511, 122)\n",
      "   SK_ID_CURR  TARGET NAME_CONTRACT_TYPE CODE_GENDER FLAG_OWN_CAR  \\\n",
      "0      100002       1         Cash loans           M            N   \n",
      "1      100003       0         Cash loans           F            N   \n",
      "2      100004       0    Revolving loans           M            Y   \n",
      "3      100006       0         Cash loans           F            N   \n",
      "4      100007       0         Cash loans           M            N   \n",
      "\n",
      "  FLAG_OWN_REALTY  CNT_CHILDREN  AMT_INCOME_TOTAL  AMT_CREDIT  AMT_ANNUITY  \\\n",
      "0               Y             0          202500.0    406597.5      24700.5   \n",
      "1               N             0          270000.0   1293502.5      35698.5   \n",
      "2               Y             0           67500.0    135000.0       6750.0   \n",
      "3               Y             0          135000.0    312682.5      29686.5   \n",
      "4               Y             0          121500.0    513000.0      21865.5   \n",
      "\n",
      "   ...  FLAG_DOCUMENT_18 FLAG_DOCUMENT_19 FLAG_DOCUMENT_20 FLAG_DOCUMENT_21  \\\n",
      "0  ...                 0                0                0                0   \n",
      "1  ...                 0                0                0                0   \n",
      "2  ...                 0                0                0                0   \n",
      "3  ...                 0                0                0                0   \n",
      "4  ...                 0                0                0                0   \n",
      "\n",
      "  AMT_REQ_CREDIT_BUREAU_HOUR AMT_REQ_CREDIT_BUREAU_DAY  \\\n",
      "0                        0.0                       0.0   \n",
      "1                        0.0                       0.0   \n",
      "2                        0.0                       0.0   \n",
      "3                        NaN                       NaN   \n",
      "4                        0.0                       0.0   \n",
      "\n",
      "   AMT_REQ_CREDIT_BUREAU_WEEK  AMT_REQ_CREDIT_BUREAU_MON  \\\n",
      "0                         0.0                        0.0   \n",
      "1                         0.0                        0.0   \n",
      "2                         0.0                        0.0   \n",
      "3                         NaN                        NaN   \n",
      "4                         0.0                        0.0   \n",
      "\n",
      "   AMT_REQ_CREDIT_BUREAU_QRT  AMT_REQ_CREDIT_BUREAU_YEAR  \n",
      "0                        0.0                         1.0  \n",
      "1                        0.0                         0.0  \n",
      "2                        0.0                         0.0  \n",
      "3                        NaN                         NaN  \n",
      "4                        0.0                         0.0  \n",
      "\n",
      "[5 rows x 122 columns]\n",
      "Testing data shape:  (48744, 121)\n",
      "   SK_ID_CURR NAME_CONTRACT_TYPE CODE_GENDER FLAG_OWN_CAR FLAG_OWN_REALTY  \\\n",
      "0      100001         Cash loans           F            N               Y   \n",
      "1      100005         Cash loans           M            N               Y   \n",
      "2      100013         Cash loans           M            Y               Y   \n",
      "3      100028         Cash loans           F            N               Y   \n",
      "4      100038         Cash loans           M            Y               N   \n",
      "\n",
      "   CNT_CHILDREN  AMT_INCOME_TOTAL  AMT_CREDIT  AMT_ANNUITY  AMT_GOODS_PRICE  \\\n",
      "0             0          135000.0    568800.0      20560.5         450000.0   \n",
      "1             0           99000.0    222768.0      17370.0         180000.0   \n",
      "2             0          202500.0    663264.0      69777.0         630000.0   \n",
      "3             2          315000.0   1575000.0      49018.5        1575000.0   \n",
      "4             1          180000.0    625500.0      32067.0         625500.0   \n",
      "\n",
      "   ... FLAG_DOCUMENT_18 FLAG_DOCUMENT_19 FLAG_DOCUMENT_20 FLAG_DOCUMENT_21  \\\n",
      "0  ...                0                0                0                0   \n",
      "1  ...                0                0                0                0   \n",
      "2  ...                0                0                0                0   \n",
      "3  ...                0                0                0                0   \n",
      "4  ...                0                0                0                0   \n",
      "\n",
      "  AMT_REQ_CREDIT_BUREAU_HOUR  AMT_REQ_CREDIT_BUREAU_DAY  \\\n",
      "0                        0.0                        0.0   \n",
      "1                        0.0                        0.0   \n",
      "2                        0.0                        0.0   \n",
      "3                        0.0                        0.0   \n",
      "4                        NaN                        NaN   \n",
      "\n",
      "   AMT_REQ_CREDIT_BUREAU_WEEK  AMT_REQ_CREDIT_BUREAU_MON  \\\n",
      "0                         0.0                        0.0   \n",
      "1                         0.0                        0.0   \n",
      "2                         0.0                        0.0   \n",
      "3                         0.0                        0.0   \n",
      "4                         NaN                        NaN   \n",
      "\n",
      "   AMT_REQ_CREDIT_BUREAU_QRT  AMT_REQ_CREDIT_BUREAU_YEAR  \n",
      "0                        0.0                         0.0  \n",
      "1                        0.0                         3.0  \n",
      "2                        1.0                         4.0  \n",
      "3                        0.0                         3.0  \n",
      "4                        NaN                         NaN  \n",
      "\n",
      "[5 rows x 121 columns]\n"
     ]
    }
   ],
   "source": [
    "import pandas as pd\n",
    "\n",
    "# Training data\n",
    "app_train = pd.read_csv('application_train.csv')\n",
    "print('Training data shape: ', app_train.shape)\n",
    "print(app_train.head())\n",
    "\n",
    "# Testing data features\n",
    "app_test = pd.read_csv('application_test.csv')\n",
    "print('Testing data shape: ', app_test.shape)\n",
    "print(app_test.head())"
   ]
  },
  {
   "cell_type": "markdown",
   "metadata": {},
   "source": [
    "## Pre-processing"
   ]
  },
  {
   "cell_type": "markdown",
   "metadata": {},
   "source": [
    "### Check anomalous values"
   ]
  },
  {
   "cell_type": "code",
   "execution_count": 19,
   "metadata": {
    "scrolled": true
   },
   "outputs": [
    {
     "name": "stdout",
     "output_type": "stream",
     "text": [
      "count    307511.000000\n",
      "mean        -43.936973\n",
      "std          11.956133\n",
      "min         -69.120548\n",
      "25%         -53.923288\n",
      "50%         -43.150685\n",
      "75%         -34.008219\n",
      "max         -20.517808\n",
      "Name: DAYS_BIRTH, dtype: float64\n"
     ]
    }
   ],
   "source": [
    "print((app_train['DAYS_BIRTH'] / 365).describe())"
   ]
  },
  {
   "cell_type": "markdown",
   "metadata": {},
   "source": [
    "'DAYS_BIRTH' are negative values which does not make sense, so we get their absolute values."
   ]
  },
  {
   "cell_type": "code",
   "execution_count": 20,
   "metadata": {},
   "outputs": [],
   "source": [
    "app_train['DAYS_BIRTH'] = abs(app_train['DAYS_BIRTH'])"
   ]
  },
  {
   "cell_type": "code",
   "execution_count": 5,
   "metadata": {},
   "outputs": [
    {
     "name": "stdout",
     "output_type": "stream",
     "text": [
      "count    307511.000000\n",
      "mean      63815.045904\n",
      "std      141275.766519\n",
      "min      -17912.000000\n",
      "25%       -2760.000000\n",
      "50%       -1213.000000\n",
      "75%        -289.000000\n",
      "max      365243.000000\n",
      "Name: DAYS_EMPLOYED, dtype: float64\n"
     ]
    }
   ],
   "source": [
    "print(app_train['DAYS_EMPLOYED'].describe())"
   ]
  },
  {
   "cell_type": "markdown",
   "metadata": {},
   "source": [
    "'DAYS_EMPLOYED' is How many days before the application the person started current employment. The maximum value 365243 (besides being positive) is about 1000 years."
   ]
  },
  {
   "cell_type": "code",
   "execution_count": 6,
   "metadata": {},
   "outputs": [
    {
     "data": {
      "image/png": "[encoded data removed]",
      "text/plain": [
       "<Figure size 432x288 with 1 Axes>"
      ]
     },
     "metadata": {
      "needs_background": "light"
     },
     "output_type": "display_data"
    },
    {
     "name": "stdout",
     "output_type": "stream",
     "text": [
      "There are 18.01% anomalies in the train data\n",
      "There are 19.03% anomalies in the test data\n"
     ]
    }
   ],
   "source": [
    "plt.hist(app_train['DAYS_EMPLOYED'].values)\n",
    "plt.title('Days Employment Histograms')\n",
    "plt.xlabel('Days Employment')\n",
    "plt.ylabel('Frequency')\n",
    "plt.show()\n",
    "\n",
    "# Create an anomalous flag column\n",
    "app_train['DAYS_EMPLOYED_ANOM'] = app_train[\"DAYS_EMPLOYED\"] > 36500\n",
    "app_test['DAYS_EMPLOYED_ANOM'] = app_test[\"DAYS_EMPLOYED\"] > 36500\n",
    "\n",
    "print('There are %0.2f%% anomalies in the train data' % (100 * app_train[\"DAYS_EMPLOYED_ANOM\"].sum()/len(app_train)))\n",
    "print('There are %0.2f%% anomalies in the test data' % (100 * app_test[\"DAYS_EMPLOYED_ANOM\"].sum()/len(app_test)))"
   ]
  },
  {
   "cell_type": "markdown",
   "metadata": {},
   "source": [
    "There're about 20%, so before we replace these anomalous values with nan, we create a new column to set a flag of these originally anomalous values and then we replace these anomalous values with nan. Also we transfer 'DAYS_EMPLOYED' to their absolute values to make it non-negative."
   ]
  },
  {
   "cell_type": "code",
   "execution_count": 21,
   "metadata": {},
   "outputs": [],
   "source": [
    "# Replace the anomalous values with nan\n",
    "app_train['DAYS_EMPLOYED'].replace({365243: np.nan}, inplace = True)\n",
    "app_train['DAYS_EMPLOYED'] = abs(app_train['DAYS_EMPLOYED'])\n",
    "\n",
    "app_test['DAYS_EMPLOYED'] = abs(app_test['DAYS_EMPLOYED'])\n",
    "app_test[\"DAYS_EMPLOYED\"].replace({365243: np.nan}, inplace = True)"
   ]
  },
  {
   "cell_type": "markdown",
   "metadata": {},
   "source": [
    "We then check the distribution of 'DAYS_EMPLOYED'."
   ]
  },
  {
   "cell_type": "code",
   "execution_count": 22,
   "metadata": {},
   "outputs": [
    {
     "data": {
      "image/png": "[encoded data removed]",
      "text/plain": [
       "<Figure size 432x288 with 1 Axes>"
      ]
     },
     "metadata": {
      "needs_background": "light"
     },
     "output_type": "display_data"
    }
   ],
   "source": [
    "plt.hist(app_train['DAYS_EMPLOYED'].values)\n",
    "plt.title('Days Employment Histograms')\n",
    "plt.xlabel('Days Employment')\n",
    "plt.ylabel('Frequency')\n",
    "plt.show()"
   ]
  },
  {
   "cell_type": "markdown",
   "metadata": {},
   "source": [
    "The distribution looks to be much more in line with what we would expect."
   ]
  },
  {
   "cell_type": "markdown",
   "metadata": {},
   "source": [
    "### Check missing values"
   ]
  },
  {
   "cell_type": "code",
   "execution_count": 23,
   "metadata": {},
   "outputs": [
    {
     "name": "stdout",
     "output_type": "stream",
     "text": [
      "Variable with missing values   Proportion of missing values\n",
      "DAYS_LAST_PHONE_CHANGE         3.2519161916159095e-06\n",
      "CNT_FAM_MEMBERS                6.503832383231819e-06\n",
      "AMT_ANNUITY                    3.9022994299390916e-05\n",
      "AMT_GOODS_PRICE                0.0009040327012692228\n",
      "EXT_SOURCE_2                   0.0021462646864665006\n",
      "OBS_30_CNT_SOCIAL_CIRCLE       0.0033202064316398437\n",
      "DEF_30_CNT_SOCIAL_CIRCLE       0.0033202064316398437\n",
      "OBS_60_CNT_SOCIAL_CIRCLE       0.0033202064316398437\n",
      "DEF_60_CNT_SOCIAL_CIRCLE       0.0033202064316398437\n",
      "NAME_TYPE_SUITE                0.004201475719567756\n",
      "AMT_REQ_CREDIT_BUREAU_HOUR     0.13501630835970097\n",
      "AMT_REQ_CREDIT_BUREAU_DAY      0.13501630835970097\n",
      "AMT_REQ_CREDIT_BUREAU_WEEK     0.13501630835970097\n",
      "AMT_REQ_CREDIT_BUREAU_MON      0.13501630835970097\n",
      "AMT_REQ_CREDIT_BUREAU_QRT      0.13501630835970097\n",
      "AMT_REQ_CREDIT_BUREAU_YEAR     0.13501630835970097\n",
      "DAYS_EMPLOYED                  0.18007160719453938\n",
      "EXT_SOURCE_3                   0.19825307062186392\n",
      "OCCUPATION_TYPE                0.31345545362604915\n",
      "EMERGENCYSTATE_MODE            0.47398304450897694\n",
      "TOTALAREA_MODE                 0.4826851722377411\n",
      "YEARS_BEGINEXPLUATATION_AVG    0.48781019215572774\n",
      "YEARS_BEGINEXPLUATATION_MODE   0.48781019215572774\n",
      "YEARS_BEGINEXPLUATATION_MEDI   0.48781019215572774\n",
      "FLOORSMAX_AVG                  0.4976082156410665\n",
      "FLOORSMAX_MODE                 0.4976082156410665\n",
      "FLOORSMAX_MEDI                 0.4976082156410665\n",
      "HOUSETYPE_MODE                 0.50176091261776\n",
      "LIVINGAREA_AVG                 0.5019332641759157\n",
      "LIVINGAREA_MODE                0.5019332641759157\n",
      "LIVINGAREA_MEDI                0.5019332641759157\n",
      "ENTRANCES_AVG                  0.503487680115508\n",
      "ENTRANCES_MODE                 0.503487680115508\n",
      "ENTRANCES_MEDI                 0.503487680115508\n",
      "APARTMENTS_AVG                 0.5074972927797705\n",
      "APARTMENTS_MODE                0.5074972927797705\n",
      "APARTMENTS_MEDI                0.5074972927797705\n",
      "WALLSMATERIAL_MODE             0.508407829313423\n",
      "ELEVATORS_AVG                  0.532959796560123\n",
      "ELEVATORS_MODE                 0.532959796560123\n",
      "ELEVATORS_MEDI                 0.532959796560123\n",
      "NONLIVINGAREA_AVG              0.5517916432257708\n",
      "NONLIVINGAREA_MODE             0.5517916432257708\n",
      "NONLIVINGAREA_MEDI             0.5517916432257708\n",
      "EXT_SOURCE_1                   0.5638107254699832\n",
      "BASEMENTAREA_AVG               0.5851595552679416\n",
      "BASEMENTAREA_MODE              0.5851595552679416\n",
      "BASEMENTAREA_MEDI              0.5851595552679416\n",
      "LANDAREA_AVG                   0.5937673774271489\n",
      "LANDAREA_MODE                  0.5937673774271489\n",
      "LANDAREA_MEDI                  0.5937673774271489\n",
      "OWN_CAR_AGE                    0.6599081008484249\n",
      "YEARS_BUILD_AVG                0.6649778381911542\n",
      "YEARS_BUILD_MODE               0.6649778381911542\n",
      "YEARS_BUILD_MEDI               0.6649778381911542\n",
      "FLOORSMIN_AVG                  0.6784862980511266\n",
      "FLOORSMIN_MODE                 0.6784862980511266\n",
      "FLOORSMIN_MEDI                 0.6784862980511266\n",
      "LIVINGAPARTMENTS_AVG           0.6835495315614726\n",
      "LIVINGAPARTMENTS_MODE          0.6835495315614726\n",
      "LIVINGAPARTMENTS_MEDI          0.6835495315614726\n",
      "FONDKAPREMONT_MODE             0.6838617155158677\n",
      "NONLIVINGAPARTMENTS_AVG        0.6943296337366793\n",
      "NONLIVINGAPARTMENTS_MODE       0.6943296337366793\n",
      "NONLIVINGAPARTMENTS_MEDI       0.6943296337366793\n",
      "COMMONAREA_AVG                 0.6987229725115525\n",
      "COMMONAREA_MODE                0.6987229725115525\n",
      "COMMONAREA_MEDI                0.6987229725115525\n",
      "[['AMT_ANNUITY', 3.9022994299390916e-05], ['AMT_GOODS_PRICE', 0.0009040327012692228], ['NAME_TYPE_SUITE', 0.004201475719567756], ['DAYS_EMPLOYED', 0.18007160719453938], ['OWN_CAR_AGE', 0.6599081008484249], ['OCCUPATION_TYPE', 0.31345545362604915], ['CNT_FAM_MEMBERS', 6.503832383231819e-06], ['EXT_SOURCE_1', 0.5638107254699832], ['EXT_SOURCE_2', 0.0021462646864665006], ['EXT_SOURCE_3', 0.19825307062186392], ['APARTMENTS_AVG', 0.5074972927797705], ['BASEMENTAREA_AVG', 0.5851595552679416], ['YEARS_BEGINEXPLUATATION_AVG', 0.48781019215572774], ['YEARS_BUILD_AVG', 0.6649778381911542], ['COMMONAREA_AVG', 0.6987229725115525], ['ELEVATORS_AVG', 0.532959796560123], ['ENTRANCES_AVG', 0.503487680115508], ['FLOORSMAX_AVG', 0.4976082156410665], ['FLOORSMIN_AVG', 0.6784862980511266], ['LANDAREA_AVG', 0.5937673774271489], ['LIVINGAPARTMENTS_AVG', 0.6835495315614726], ['LIVINGAREA_AVG', 0.5019332641759157], ['NONLIVINGAPARTMENTS_AVG', 0.6943296337366793], ['NONLIVINGAREA_AVG', 0.5517916432257708], ['APARTMENTS_MODE', 0.5074972927797705], ['BASEMENTAREA_MODE', 0.5851595552679416], ['YEARS_BEGINEXPLUATATION_MODE', 0.48781019215572774], ['YEARS_BUILD_MODE', 0.6649778381911542], ['COMMONAREA_MODE', 0.6987229725115525], ['ELEVATORS_MODE', 0.532959796560123], ['ENTRANCES_MODE', 0.503487680115508], ['FLOORSMAX_MODE', 0.4976082156410665], ['FLOORSMIN_MODE', 0.6784862980511266], ['LANDAREA_MODE', 0.5937673774271489], ['LIVINGAPARTMENTS_MODE', 0.6835495315614726], ['LIVINGAREA_MODE', 0.5019332641759157], ['NONLIVINGAPARTMENTS_MODE', 0.6943296337366793], ['NONLIVINGAREA_MODE', 0.5517916432257708], ['APARTMENTS_MEDI', 0.5074972927797705], ['BASEMENTAREA_MEDI', 0.5851595552679416], ['YEARS_BEGINEXPLUATATION_MEDI', 0.48781019215572774], ['YEARS_BUILD_MEDI', 0.6649778381911542], ['COMMONAREA_MEDI', 0.6987229725115525], ['ELEVATORS_MEDI', 0.532959796560123], ['ENTRANCES_MEDI', 0.503487680115508], ['FLOORSMAX_MEDI', 0.4976082156410665], ['FLOORSMIN_MEDI', 0.6784862980511266], ['LANDAREA_MEDI', 0.5937673774271489], ['LIVINGAPARTMENTS_MEDI', 0.6835495315614726], ['LIVINGAREA_MEDI', 0.5019332641759157], ['NONLIVINGAPARTMENTS_MEDI', 0.6943296337366793], ['NONLIVINGAREA_MEDI', 0.5517916432257708], ['FONDKAPREMONT_MODE', 0.6838617155158677], ['HOUSETYPE_MODE', 0.50176091261776], ['TOTALAREA_MODE', 0.4826851722377411], ['WALLSMATERIAL_MODE', 0.508407829313423], ['EMERGENCYSTATE_MODE', 0.47398304450897694], ['OBS_30_CNT_SOCIAL_CIRCLE', 0.0033202064316398437], ['DEF_30_CNT_SOCIAL_CIRCLE', 0.0033202064316398437], ['OBS_60_CNT_SOCIAL_CIRCLE', 0.0033202064316398437], ['DEF_60_CNT_SOCIAL_CIRCLE', 0.0033202064316398437], ['DAYS_LAST_PHONE_CHANGE', 3.2519161916159095e-06], ['AMT_REQ_CREDIT_BUREAU_HOUR', 0.13501630835970097], ['AMT_REQ_CREDIT_BUREAU_DAY', 0.13501630835970097], ['AMT_REQ_CREDIT_BUREAU_WEEK', 0.13501630835970097], ['AMT_REQ_CREDIT_BUREAU_MON', 0.13501630835970097], ['AMT_REQ_CREDIT_BUREAU_QRT', 0.13501630835970097], ['AMT_REQ_CREDIT_BUREAU_YEAR', 0.13501630835970097]]\n",
      "Variable with missing values   Proportion of missing values\n",
      "EXT_SOURCE_2                   0.00016412276382734285\n",
      "AMT_ANNUITY                    0.0004923682914820286\n",
      "OBS_30_CNT_SOCIAL_CIRCLE       0.0005949450188741178\n",
      "DEF_30_CNT_SOCIAL_CIRCLE       0.0005949450188741178\n",
      "OBS_60_CNT_SOCIAL_CIRCLE       0.0005949450188741178\n",
      "DEF_60_CNT_SOCIAL_CIRCLE       0.0005949450188741178\n",
      "NAME_TYPE_SUITE                0.018689479730838666\n",
      "AMT_REQ_CREDIT_BUREAU_HOUR     0.12409732479894961\n",
      "AMT_REQ_CREDIT_BUREAU_DAY      0.12409732479894961\n",
      "AMT_REQ_CREDIT_BUREAU_WEEK     0.12409732479894961\n",
      "AMT_REQ_CREDIT_BUREAU_MON      0.12409732479894961\n",
      "AMT_REQ_CREDIT_BUREAU_QRT      0.12409732479894961\n",
      "AMT_REQ_CREDIT_BUREAU_YEAR     0.12409732479894961\n",
      "EXT_SOURCE_3                   0.177827014606926\n",
      "DAYS_EMPLOYED                  0.1902593139668472\n",
      "OCCUPATION_TYPE                0.32014196619071067\n",
      "EXT_SOURCE_1                   0.42122107336287545\n",
      "EMERGENCYSTATE_MODE            0.45562530773018217\n",
      "TOTALAREA_MODE                 0.46413917610372557\n",
      "YEARS_BEGINEXPLUATATION_AVG    0.4688987362547185\n",
      "YEARS_BEGINEXPLUATATION_MODE   0.4688987362547185\n",
      "YEARS_BEGINEXPLUATATION_MEDI   0.4688987362547185\n",
      "FLOORSMAX_AVG                  0.47843837190218286\n",
      "FLOORSMAX_MODE                 0.47843837190218286\n",
      "FLOORSMAX_MEDI                 0.47843837190218286\n",
      "LIVINGAREA_AVG                 0.48317741670769737\n",
      "LIVINGAREA_MODE                0.48317741670769737\n",
      "LIVINGAREA_MEDI                0.48317741670769737\n",
      "ENTRANCES_AVG                  0.48373133103561466\n",
      "ENTRANCES_MODE                 0.48373133103561466\n",
      "ENTRANCES_MEDI                 0.48373133103561466\n",
      "HOUSETYPE_MODE                 0.48455194485475134\n",
      "APARTMENTS_AVG                 0.4900500574429673\n",
      "APARTMENTS_MODE                0.4900500574429673\n",
      "APARTMENTS_MEDI                0.4900500574429673\n",
      "WALLSMATERIAL_MODE             0.49017314951583785\n",
      "ELEVATORS_AVG                  0.5167610372558674\n",
      "ELEVATORS_MODE                 0.5167610372558674\n",
      "ELEVATORS_MEDI                 0.5167610372558674\n",
      "NONLIVINGAREA_AVG              0.5351222714590513\n",
      "NONLIVINGAREA_MODE             0.5351222714590513\n",
      "NONLIVINGAREA_MEDI             0.5351222714590513\n",
      "BASEMENTAREA_AVG               0.567064664368948\n",
      "BASEMENTAREA_MODE              0.567064664368948\n",
      "BASEMENTAREA_MEDI              0.567064664368948\n",
      "LANDAREA_AVG                   0.5796405711472181\n",
      "LANDAREA_MODE                  0.5796405711472181\n",
      "LANDAREA_MEDI                  0.5796405711472181\n",
      "YEARS_BUILD_AVG                0.6527572624322994\n",
      "YEARS_BUILD_MODE               0.6527572624322994\n",
      "YEARS_BUILD_MEDI               0.6527572624322994\n",
      "OWN_CAR_AGE                    0.6628918430986378\n",
      "FLOORSMIN_AVG                  0.6660512063023142\n",
      "FLOORSMIN_MODE                 0.6660512063023142\n",
      "FLOORSMIN_MEDI                 0.6660512063023142\n",
      "LIVINGAPARTMENTS_AVG           0.6724930247825374\n",
      "LIVINGAPARTMENTS_MODE          0.6724930247825374\n",
      "LIVINGAPARTMENTS_MEDI          0.6724930247825374\n",
      "FONDKAPREMONT_MODE             0.6728417856556704\n",
      "NONLIVINGAPARTMENTS_AVG        0.6841252256688003\n",
      "NONLIVINGAPARTMENTS_MODE       0.6841252256688003\n",
      "NONLIVINGAPARTMENTS_MEDI       0.6841252256688003\n",
      "COMMONAREA_AVG                 0.6871614967996061\n",
      "COMMONAREA_MODE                0.6871614967996061\n",
      "COMMONAREA_MEDI                0.6871614967996061\n",
      "[['AMT_ANNUITY', 0.0004923682914820286], ['NAME_TYPE_SUITE', 0.018689479730838666], ['DAYS_EMPLOYED', 0.1902593139668472], ['OWN_CAR_AGE', 0.6628918430986378], ['OCCUPATION_TYPE', 0.32014196619071067], ['EXT_SOURCE_1', 0.42122107336287545], ['EXT_SOURCE_2', 0.00016412276382734285], ['EXT_SOURCE_3', 0.177827014606926], ['APARTMENTS_AVG', 0.4900500574429673], ['BASEMENTAREA_AVG', 0.567064664368948], ['YEARS_BEGINEXPLUATATION_AVG', 0.4688987362547185], ['YEARS_BUILD_AVG', 0.6527572624322994], ['COMMONAREA_AVG', 0.6871614967996061], ['ELEVATORS_AVG', 0.5167610372558674], ['ENTRANCES_AVG', 0.48373133103561466], ['FLOORSMAX_AVG', 0.47843837190218286], ['FLOORSMIN_AVG', 0.6660512063023142], ['LANDAREA_AVG', 0.5796405711472181], ['LIVINGAPARTMENTS_AVG', 0.6724930247825374], ['LIVINGAREA_AVG', 0.48317741670769737], ['NONLIVINGAPARTMENTS_AVG', 0.6841252256688003], ['NONLIVINGAREA_AVG', 0.5351222714590513], ['APARTMENTS_MODE', 0.4900500574429673], ['BASEMENTAREA_MODE', 0.567064664368948], ['YEARS_BEGINEXPLUATATION_MODE', 0.4688987362547185], ['YEARS_BUILD_MODE', 0.6527572624322994], ['COMMONAREA_MODE', 0.6871614967996061], ['ELEVATORS_MODE', 0.5167610372558674], ['ENTRANCES_MODE', 0.48373133103561466], ['FLOORSMAX_MODE', 0.47843837190218286], ['FLOORSMIN_MODE', 0.6660512063023142], ['LANDAREA_MODE', 0.5796405711472181], ['LIVINGAPARTMENTS_MODE', 0.6724930247825374], ['LIVINGAREA_MODE', 0.48317741670769737], ['NONLIVINGAPARTMENTS_MODE', 0.6841252256688003], ['NONLIVINGAREA_MODE', 0.5351222714590513], ['APARTMENTS_MEDI', 0.4900500574429673], ['BASEMENTAREA_MEDI', 0.567064664368948], ['YEARS_BEGINEXPLUATATION_MEDI', 0.4688987362547185], ['YEARS_BUILD_MEDI', 0.6527572624322994], ['COMMONAREA_MEDI', 0.6871614967996061], ['ELEVATORS_MEDI', 0.5167610372558674], ['ENTRANCES_MEDI', 0.48373133103561466], ['FLOORSMAX_MEDI', 0.47843837190218286], ['FLOORSMIN_MEDI', 0.6660512063023142], ['LANDAREA_MEDI', 0.5796405711472181], ['LIVINGAPARTMENTS_MEDI', 0.6724930247825374], ['LIVINGAREA_MEDI', 0.48317741670769737], ['NONLIVINGAPARTMENTS_MEDI', 0.6841252256688003], ['NONLIVINGAREA_MEDI', 0.5351222714590513], ['FONDKAPREMONT_MODE', 0.6728417856556704], ['HOUSETYPE_MODE', 0.48455194485475134], ['TOTALAREA_MODE', 0.46413917610372557], ['WALLSMATERIAL_MODE', 0.49017314951583785], ['EMERGENCYSTATE_MODE', 0.45562530773018217], ['OBS_30_CNT_SOCIAL_CIRCLE', 0.0005949450188741178], ['DEF_30_CNT_SOCIAL_CIRCLE', 0.0005949450188741178], ['OBS_60_CNT_SOCIAL_CIRCLE', 0.0005949450188741178], ['DEF_60_CNT_SOCIAL_CIRCLE', 0.0005949450188741178], ['AMT_REQ_CREDIT_BUREAU_HOUR', 0.12409732479894961], ['AMT_REQ_CREDIT_BUREAU_DAY', 0.12409732479894961], ['AMT_REQ_CREDIT_BUREAU_WEEK', 0.12409732479894961], ['AMT_REQ_CREDIT_BUREAU_MON', 0.12409732479894961], ['AMT_REQ_CREDIT_BUREAU_QRT', 0.12409732479894961], ['AMT_REQ_CREDIT_BUREAU_YEAR', 0.12409732479894961]]\n"
     ]
    }
   ],
   "source": [
    "# Function to calculate missing values by column# Funct\n",
    "def missing_value_checker(df):\n",
    "    \"\"\"\n",
    "    The missing value checker\n",
    "\n",
    "    Parameters\n",
    "    ----------\n",
    "    df : dataframe\n",
    "    \n",
    "    Returns\n",
    "    ----------\n",
    "    The variables with missing value and their proportion of missing value\n",
    "    \"\"\"\n",
    "    \n",
    "    variable_proportion = [[variable, df[variable].isna().sum() / df.shape[0]] \n",
    "                           for variable in df.columns \n",
    "                           if df[variable].isna().sum() > 0]\n",
    "\n",
    "    print('%-30s' % 'Variable with missing values', 'Proportion of missing values')\n",
    "    for variable, proportion in sorted(variable_proportion, key=lambda x : x[1]):\n",
    "        print('%-30s' % variable, proportion)\n",
    "        \n",
    "    return variable_proportion\n",
    "# Missing values statistics\n",
    "print(missing_value_checker(app_train))\n",
    "print(missing_value_checker(app_test))"
   ]
  },
  {
   "cell_type": "markdown",
   "metadata": {},
   "source": [
    "### Remove irrelevant features and impute missing values"
   ]
  },
  {
   "cell_type": "code",
   "execution_count": 24,
   "metadata": {},
   "outputs": [
    {
     "name": "stdout",
     "output_type": "stream",
     "text": [
      "Variable with missing values   Proportion of missing values\n",
      "[]\n",
      "Variable with missing values   Proportion of missing values\n",
      "[]\n"
     ]
    }
   ],
   "source": [
    "for df in [app_train,app_test]:\n",
    "    for col in ['COMMONAREA_MEDI', 'COMMONAREA_AVG', 'COMMONAREA_MODE', 'NONLIVINGAPARTMENTS_MEDI', 'NONLIVINGAPARTMENTS_MODE',\n",
    "                'NONLIVINGAPARTMENTS_AVG', 'FONDKAPREMONT_MODE', 'LIVINGAPARTMENTS_MODE', 'LIVINGAPARTMENTS_MEDI', 'LIVINGAPARTMENTS_AVG',\n",
    "                'FLOORSMIN_MODE', 'FLOORSMIN_MEDI', 'FLOORSMIN_AVG', 'LANDAREA_MODE', 'LANDAREA_MEDI', 'LANDAREA_AVG', 'DEF_30_CNT_SOCIAL_CIRCLE',\n",
    "                'DEF_60_CNT_SOCIAL_CIRCLE', 'OBS_60_CNT_SOCIAL_CIRCLE', 'OBS_30_CNT_SOCIAL_CIRCLE', 'AMT_REQ_CREDIT_BUREAU_WEEK',\n",
    "                'AMT_REQ_CREDIT_BUREAU_DAY', 'AMT_REQ_CREDIT_BUREAU_MON', 'AMT_REQ_CREDIT_BUREAU_QRT', 'AMT_REQ_CREDIT_BUREAU_HOUR',\n",
    "                'AMT_REQ_CREDIT_BUREAU_YEAR', 'TOTALAREA_MODE', 'BASEMENTAREA_MODE', 'BASEMENTAREA_MEDI', 'BASEMENTAREA_AVG', 'NONLIVINGAREA_MODE',\n",
    "                'NONLIVINGAREA_MEDI', 'NONLIVINGAREA_AVG', 'ELEVATORS_AVG', 'ELEVATORS_MODE', 'ELEVATORS_MEDI', 'APARTMENTS_MODE', 'APARTMENTS_MEDI',\n",
    "                'APARTMENTS_AVG', 'ENTRANCES_MEDI', 'ENTRANCES_MODE', 'ENTRANCES_AVG', 'LIVINGAREA_MEDI', 'LIVINGAREA_MODE', 'LIVINGAREA_AVG',\n",
    "                'FLOORSMAX_MEDI', 'FLOORSMAX_MEDI', 'FLOORSMAX_MEDI', 'DAYS_EMPLOYED']:\n",
    "        df[col].fillna(0, inplace=True)\n",
    "    df.drop(['NAME_TYPE_SUITE', 'WALLSMATERIAL_MODE', 'HOUSETYPE_MODE'],axis=1, inplace=True)\n",
    "    df['OCCUPATION_TYPE'].fillna('unemployed', inplace=True)\n",
    "    df['EMERGENCYSTATE_MODE'].fillna('No', inplace=True)\n",
    "    df['NAME_CONTRACT_TYPE'].fillna('Cash loans', inplace=True)\n",
    "\n",
    "app_train = pd.get_dummies(app_train)\n",
    "app_test = pd.get_dummies(app_test)\n",
    "\n",
    "target = app_train['TARGET']\n",
    "\n",
    "# Align the training and testing data, keep only columns present in both dataframes\n",
    "app_train, app_test = app_train.align(app_test, join = 'inner', axis = 1)\n",
    "\n",
    "columns = list(app_train.columns)\n",
    "\n",
    "from sklearn.preprocessing import Imputer\n",
    "import numpy as np\n",
    "\n",
    "si = Imputer(missing_values=np.nan, strategy='median')\n",
    "\n",
    "app_train = si.fit_transform(app_train)\n",
    "app_test = si.transform(app_test)\n",
    "                        \n",
    "app_train = pd.DataFrame(app_train, columns=columns)\n",
    "app_test = pd.DataFrame(app_test, columns=columns)\n",
    "\n",
    "# Add the target back in\n",
    "app_train['TARGET'] = target\n",
    "\n",
    "print(missing_value_checker(app_train))\n",
    "print(missing_value_checker(app_test))"
   ]
  },
  {
   "cell_type": "markdown",
   "metadata": {},
   "source": [
    "## EDA"
   ]
  },
  {
   "cell_type": "markdown",
   "metadata": {},
   "source": [
    "### Distribution of target"
   ]
  },
  {
   "cell_type": "code",
   "execution_count": 51,
   "metadata": {},
   "outputs": [
    {
     "data": {
      "image/png": "[encoded data removed]",
      "text/plain": [
       "<Figure size 432x288 with 1 Axes>"
      ]
     },
     "metadata": {
      "needs_background": "light"
     },
     "output_type": "display_data"
    }
   ],
   "source": [
    "plt.hist(app_train['TARGET'].values)\n",
    "plt.title('Target Histograms')\n",
    "plt.xticks(np.arange(0, 1.1, step=1))\n",
    "plt.xlabel('Target')\n",
    "plt.ylabel('Frequency')\n",
    "plt.show()"
   ]
  },
  {
   "attachments": {},
   "cell_type": "markdown",
   "metadata": {},
   "source": [
    "Imbalanced data set.\n",
    "There are far more loans that were repaid on time than loans that were not repaid."
   ]
  },
  {
   "cell_type": "markdown",
   "metadata": {},
   "source": [
    "### Effect of age on target (applicant has difficulty repay the loan or not)"
   ]
  },
  {
   "cell_type": "code",
   "execution_count": 25,
   "metadata": {},
   "outputs": [
    {
     "data": {
      "image/png": "[encoded data removed]",
      "text/plain": [
       "<Figure size 720x576 with 1 Axes>"
      ]
     },
     "metadata": {
      "needs_background": "light"
     },
     "output_type": "display_data"
    }
   ],
   "source": [
    "plt.figure(figsize = (10, 8))\n",
    "\n",
    "# KDE plot of loans that were repaid on time\n",
    "sns.kdeplot(app_train.loc[app_train['TARGET'] == 0, 'DAYS_BIRTH'] / 365, label = 'target == 0')\n",
    "\n",
    "# KDE plot of loans which were not repaid on time\n",
    "sns.kdeplot(app_train.loc[app_train['TARGET'] == 1, 'DAYS_BIRTH'] / 365, label = 'target == 1')\n",
    "\n",
    "# Labeling of plot\n",
    "plt.xlabel('Age (years)'); plt.ylabel('Density'); plt.title('Distribution of Ages')\n",
    "plt.show()"
   ]
  },
  {
   "cell_type": "markdown",
   "metadata": {},
   "source": [
    "The target == 1 (applicant has difficulty repay the loan) curve skews towards the younger end of the range. \n",
    "\n",
    "Let's look at this relationship in another way: average failure to repay loans by age bracket.\n",
    "\n",
    "To make this graph, first we cut the age category into bins of 5 years each. Then, for each bin, we calculate the average value of the target, which tells us the ratio of loans that were not repaid in each age category."
   ]
  },
  {
   "cell_type": "code",
   "execution_count": 26,
   "metadata": {},
   "outputs": [
    {
     "data": {
      "image/png": "[encoded data removed]",
      "text/plain": [
       "<Figure size 576x576 with 1 Axes>"
      ]
     },
     "metadata": {
      "needs_background": "light"
     },
     "output_type": "display_data"
    }
   ],
   "source": [
    "# Age information into a separate dataframe\n",
    "age_data = app_train[['TARGET', 'DAYS_BIRTH']]\n",
    "age_data['YEARS_BIRTH'] = age_data['DAYS_BIRTH'] / 365\n",
    "\n",
    "# Bin the age data\n",
    "age_data['YEARS_BINNED'] = pd.cut(age_data['YEARS_BIRTH'], bins = np.linspace(20, 70, num = 11))\n",
    "# Group by the bin and calculate averages\n",
    "age_groups  = age_data.groupby('YEARS_BINNED').mean()\n",
    "\n",
    "plt.figure(figsize = (8, 8))\n",
    "\n",
    "# Graph the age bins and the average of the target as a bar plot\n",
    "plt.bar(age_groups.index.astype(str), 100 * age_groups['TARGET'])\n",
    "\n",
    "# Plot labeling\n",
    "plt.xticks(rotation = 75); plt.xlabel('Age Group (years)')\n",
    "plt.ylabel('Failure to Repay (%)')\n",
    "plt.title('Failure to Repay by Age Group')\n",
    "plt.show()"
   ]
  },
  {
   "cell_type": "markdown",
   "metadata": {},
   "source": [
    "There is a clear trend: younger applicants are more likely to fail repaying the loan! The rate of failure to repay is above 10% for the youngest three age groups and below 5% for the oldest age group.\n",
    "\n",
    "This is information that could be directly used by the bank: because younger clients are less likely to repay the loan, maybe they should be provided with more guidance or financial planning tips. This does not mean the bank should discriminate against younger clients, but it would be smart to take precautionary measures to help younger clients pay on time."
   ]
  },
  {
   "cell_type": "markdown",
   "metadata": {},
   "source": [
    "### Effect of days employed on target (applicant has difficulty repay the loan or not)"
   ]
  },
  {
   "cell_type": "code",
   "execution_count": 47,
   "metadata": {},
   "outputs": [
    {
     "data": {
      "image/png": "[encoded data removed]",
      "text/plain": [
       "<Figure size 576x576 with 1 Axes>"
      ]
     },
     "metadata": {
      "needs_background": "light"
     },
     "output_type": "display_data"
    }
   ],
   "source": [
    "# Days employed information into a separate dataframe\n",
    "age_data = app_train[['TARGET', 'DAYS_EMPLOYED']]\n",
    "age_data['YEARS_EMPLOYED'] = age_data['DAYS_EMPLOYED'] / 365\n",
    "\n",
    "# Bin the years employed data\n",
    "age_data['YEARS_BINNED'] = pd.cut(age_data['YEARS_EMPLOYED'], bins = np.linspace(0, 45, num = 10))\n",
    "# Group by the bin and calculate averages\n",
    "age_groups  = age_data.groupby('YEARS_BINNED').mean()\n",
    "\n",
    "plt.figure(figsize = (8, 8))\n",
    "\n",
    "# Graph the age bins and the average of the target as a bar plot\n",
    "plt.bar(age_groups.index.astype(str), 100 * age_groups['TARGET'])\n",
    "\n",
    "# Plot labeling\n",
    "plt.xticks(rotation = 75); plt.xlabel('Years Employed Group')\n",
    "plt.ylabel('Failure to Repay (%)')\n",
    "plt.title('Failure to Repay by Years Employed Group')\n",
    "plt.show()"
   ]
  },
  {
   "attachments": {},
   "cell_type": "markdown",
   "metadata": {},
   "source": [
    "With more years employed at the time of application, applicants have better chance to repay the loan\n",
    "With years employed over 10-15 years, failure to repay (%) is below 5%"
   ]
  },
  {
   "cell_type": "markdown",
   "metadata": {},
   "source": [
    "### Effect of credit amount on target (applicant has difficulty repay the loan or not)"
   ]
  },
  {
   "cell_type": "code",
   "execution_count": 50,
   "metadata": {},
   "outputs": [
    {
     "data": {
      "image/png": "[encoded data removed]",
      "text/plain": [
       "<Figure size 576x576 with 1 Axes>"
      ]
     },
     "metadata": {
      "needs_background": "light"
     },
     "output_type": "display_data"
    }
   ],
   "source": [
    "# Credit Amount information into a separate dataframe\n",
    "age_data = app_train[['TARGET', 'AMT_CREDIT']]\n",
    "\n",
    "# Bin the credit amount data\n",
    "age_data['AMT_CREDIT'] = pd.cut(age_data['AMT_CREDIT']/1000, bins = np.linspace(0, 3500, num = 8))\n",
    "# Group by the bin and calculate averages\n",
    "age_groups  = age_data.groupby('AMT_CREDIT').mean()\n",
    "\n",
    "plt.figure(figsize = (8, 8))\n",
    "\n",
    "# Graph the age bins and the average of the target as a bar plot\n",
    "plt.bar(age_groups.index.astype(str), 100 * age_groups['TARGET'])\n",
    "\n",
    "# Plot labeling\n",
    "plt.xticks(rotation = 75); plt.xlabel('Credit Amount of the Loan (K)')\n",
    "plt.ylabel('Failure to Repay (%)')\n",
    "plt.title('Failure to Repay by Credit Amount Group')\n",
    "plt.show()"
   ]
  },
  {
   "attachments": {},
   "cell_type": "markdown",
   "metadata": {},
   "source": [
    "Overall, larger credit amount of loan has more likely to be repaid\n",
    "However, loan of credit amount over 2,500K is more likely to be failed repaid"
   ]
  },
  {
   "cell_type": "markdown",
   "metadata": {},
   "source": [
    "## Further pre-processing"
   ]
  },
  {
   "cell_type": "markdown",
   "metadata": {},
   "source": [
    "### Get the features and target"
   ]
  },
  {
   "cell_type": "code",
   "execution_count": 14,
   "metadata": {
    "scrolled": true
   },
   "outputs": [],
   "source": [
    "X = app_train.drop(columns=['TARGET'])\n",
    "y = app_train['TARGET']"
   ]
  },
  {
   "cell_type": "markdown",
   "metadata": {},
   "source": [
    "### Over sampling"
   ]
  },
  {
   "cell_type": "code",
   "execution_count": 15,
   "metadata": {
    "scrolled": true
   },
   "outputs": [
    {
     "data": {
      "text/plain": [
       "0    282686\n",
       "1     24825\n",
       "Name: TARGET, dtype: int64"
      ]
     },
     "execution_count": 15,
     "metadata": {},
     "output_type": "execute_result"
    }
   ],
   "source": [
    "# Print the unique value and their number for the target\n",
    "y.value_counts()"
   ]
  },
  {
   "cell_type": "code",
   "execution_count": 16,
   "metadata": {
    "scrolled": true
   },
   "outputs": [
    {
     "data": {
      "text/plain": [
       "1    282686\n",
       "0    282686\n",
       "Name: TARGET, dtype: int64"
      ]
     },
     "execution_count": 16,
     "metadata": {},
     "output_type": "execute_result"
    }
   ],
   "source": [
    "from imblearn.over_sampling import RandomOverSampler\n",
    "\n",
    "# RandomOverSampler (with random_state=0)\n",
    "ros = RandomOverSampler(random_state=0)\n",
    "X, y = ros.fit_sample(X, y)\n",
    "\n",
    "pd.DataFrame(data=y, columns=['TARGET'])['TARGET'].value_counts()"
   ]
  }
 ],
 "metadata": {
  "kernelspec": {
   "display_name": "Python 3",
   "language": "python",
   "name": "python3"
  },
  "language_info": {
   "codemirror_mode": {
    "name": "ipython",
    "version": 3
   },
   "file_extension": ".py",
   "mimetype": "text/x-python",
   "name": "python",
   "nbconvert_exporter": "python",
   "pygments_lexer": "ipython3",
   "version": "3.7.4"
  },
  "toc": {
   "base_numbering": 1,
   "nav_menu": {},
   "number_sections": true,
   "sideBar": true,
   "skip_h1_title": false,
   "title_cell": "Table of Contents",
   "title_sidebar": "Contents",
   "toc_cell": true,
   "toc_position": {},
   "toc_section_display": true,
   "toc_window_display": false
  }
 },
 "nbformat": 4,
 "nbformat_minor": 2
}
